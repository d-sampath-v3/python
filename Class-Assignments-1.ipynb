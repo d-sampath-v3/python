{
 "cells": [
  {
   "cell_type": "code",
   "execution_count": 14,
   "id": "f575b214-e754-4631-bc12-aa8da4abeb5b",
   "metadata": {},
   "outputs": [],
   "source": [
    "from SubfieldsInAIDemo import SubfieldsInAI"
   ]
  },
  {
   "cell_type": "code",
   "execution_count": 15,
   "id": "58cf164b-46d6-430f-a746-a5d77b5b50be",
   "metadata": {},
   "outputs": [
    {
     "name": "stdout",
     "output_type": "stream",
     "text": [
      "Sub-fields in AI are:\n",
      "Machine Learning\n",
      "Neural Networks\n",
      "Vision\n",
      "Robotics\n",
      "Speech Processing\n",
      "Natural Language Processing\n"
     ]
    }
   ],
   "source": [
    "SubfieldsInAI.Subfields()"
   ]
  },
  {
   "cell_type": "code",
   "execution_count": 11,
   "id": "42a1bae3-e99c-4375-a910-7514e2473ee3",
   "metadata": {},
   "outputs": [],
   "source": [
    "from OddEven import OddEven"
   ]
  },
  {
   "cell_type": "code",
   "execution_count": 13,
   "id": "b9b087ac-e293-41d5-9dbc-5ad4b08730df",
   "metadata": {},
   "outputs": [
    {
     "name": "stdin",
     "output_type": "stream",
     "text": [
      "Enter a number 52452\n"
     ]
    },
    {
     "name": "stdout",
     "output_type": "stream",
     "text": [
      "52452 is Even Number\n"
     ]
    }
   ],
   "source": [
    "OddEven.OddEven()"
   ]
  },
  {
   "cell_type": "code",
   "execution_count": 16,
   "id": "c3c0f807-12a1-44ac-9160-ad1aa412b2a8",
   "metadata": {},
   "outputs": [],
   "source": [
    "from MarriageEligibilityCheck import ElegiblityForMarriage"
   ]
  },
  {
   "cell_type": "code",
   "execution_count": 17,
   "id": "e4d2e6ba-b163-41d1-b973-6a8bc5833882",
   "metadata": {},
   "outputs": [
    {
     "name": "stdout",
     "output_type": "stream",
     "text": [
      "Your Gender :Male\n",
      "Your Age :20\n",
      "NOT ELIGIBLE\n"
     ]
    }
   ],
   "source": [
    "ElegiblityForMarriage.Elegible()"
   ]
  },
  {
   "cell_type": "code",
   "execution_count": 23,
   "id": "363e474d-8542-4fca-a522-cb8e05989414",
   "metadata": {},
   "outputs": [],
   "source": [
    "from FindPercent import FindPercent"
   ]
  },
  {
   "cell_type": "code",
   "execution_count": 24,
   "id": "4f0ff483-607d-4ba6-b2c3-11ab78e1ed1a",
   "metadata": {},
   "outputs": [
    {
     "name": "stdout",
     "output_type": "stream",
     "text": [
      "Subject1=98\n",
      "Subject2=87\n",
      "Subject2=95\n",
      "Subject2=95\n",
      "Subject2=93\n",
      "Total=468\n",
      "Percentage=93.6\n"
     ]
    }
   ],
   "source": [
    "FindPercent.percentage()"
   ]
  },
  {
   "cell_type": "code",
   "execution_count": 25,
   "id": "cb78d566-e3d1-41e3-aa2f-37f8246d7645",
   "metadata": {},
   "outputs": [],
   "source": [
    "from triangleDemo import triangle"
   ]
  },
  {
   "cell_type": "code",
   "execution_count": 26,
   "id": "2d3559ee-b5d5-4db0-a150-c6401428371e",
   "metadata": {},
   "outputs": [
    {
     "name": "stdout",
     "output_type": "stream",
     "text": [
      "Height:32\n",
      "Breadth:4\n",
      "Area formula: (Height * Breadth)/2\n",
      "Area of Triangle: 64.0\n",
      "Height1:2\n",
      "Height2:4\n",
      "Breadth:4\n",
      "Primeter formula: Height1+Height2+Breadth\n",
      "Premiter of Triangle: 10\n"
     ]
    }
   ],
   "source": [
    "triangle.triangle()"
   ]
  },
  {
   "cell_type": "code",
   "execution_count": null,
   "id": "3d830cb3-441f-4e58-b1cb-4dc3880bb47d",
   "metadata": {},
   "outputs": [],
   "source": []
  }
 ],
 "metadata": {
  "kernelspec": {
   "display_name": "Python 3 (ipykernel)",
   "language": "python",
   "name": "python3"
  },
  "language_info": {
   "codemirror_mode": {
    "name": "ipython",
    "version": 3
   },
   "file_extension": ".py",
   "mimetype": "text/x-python",
   "name": "python",
   "nbconvert_exporter": "python",
   "pygments_lexer": "ipython3",
   "version": "3.12.7"
  }
 },
 "nbformat": 4,
 "nbformat_minor": 5
}
