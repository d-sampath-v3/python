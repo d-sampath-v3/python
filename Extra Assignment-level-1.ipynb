{
 "cells": [
  {
   "cell_type": "code",
   "execution_count": 1,
   "id": "311d82d0-b29c-4310-a581-22ebf20acb0c",
   "metadata": {},
   "outputs": [
    {
     "name": "stdout",
     "output_type": "stream",
     "text": [
      "HOPE AI\n"
     ]
    }
   ],
   "source": [
    "print(\"HOPE AI\")"
   ]
  },
  {
   "cell_type": "code",
   "execution_count": 3,
   "id": "029125ae-ee72-4684-a059-a64bd39cce50",
   "metadata": {},
   "outputs": [
    {
     "name": "stdin",
     "output_type": "stream",
     "text": [
      "Enter your institute name? : HOPE AI\n"
     ]
    }
   ],
   "source": [
    "name= input(\"Enter your institute name? :\")"
   ]
  },
  {
   "cell_type": "code",
   "execution_count": 8,
   "id": "ffb74f86-4b29-47d2-bf15-191cef7f3cad",
   "metadata": {},
   "outputs": [
    {
     "name": "stdin",
     "output_type": "stream",
     "text": [
      "Enter your name: Raj\n",
      "Enter your age: 15\n",
      "Enter your school name: Guru School\n",
      "Enter your drgree: B.E CSE\n"
     ]
    },
    {
     "name": "stdout",
     "output_type": "stream",
     "text": [
      "\n"
     ]
    }
   ],
   "source": [
    "input(\"Enter your name:\")\n",
    "input(\"Enter your age:\")\n",
    "input(\"Enter your school name:\")\n",
    "input(\"Enter your drgree:\")\n",
    "print(\"\")"
   ]
  },
  {
   "cell_type": "code",
   "execution_count": null,
   "id": "3386eeba-5cb0-463f-bce0-4fd94b6d214f",
   "metadata": {},
   "outputs": [],
   "source": [
    "#Addition"
   ]
  },
  {
   "cell_type": "code",
   "execution_count": 10,
   "id": "217bd52e-14a2-48fc-a51c-6a6f2973580b",
   "metadata": {},
   "outputs": [
    {
     "name": "stdout",
     "output_type": "stream",
     "text": [
      "a=43\n",
      "b=34\n",
      "add=77\n"
     ]
    }
   ],
   "source": [
    "a=43\n",
    "b=34\n",
    "print(f\"a={a}\")\n",
    "print(f\"b={b}\")\n",
    "print(f\"add={a+b}\")"
   ]
  },
  {
   "cell_type": "code",
   "execution_count": null,
   "id": "c80f1ffb-3447-43f0-a090-5a8becba0be6",
   "metadata": {},
   "outputs": [],
   "source": [
    "#Substruction"
   ]
  },
  {
   "cell_type": "code",
   "execution_count": 11,
   "id": "dca7329d-c8a4-4cdf-b455-e86927cc1ed0",
   "metadata": {},
   "outputs": [
    {
     "name": "stdout",
     "output_type": "stream",
     "text": [
      "a=43\n",
      "b=34\n",
      "Sub=9\n"
     ]
    }
   ],
   "source": [
    "a=43\n",
    "b=34\n",
    "print(f\"a={a}\")\n",
    "print(f\"b={b}\")\n",
    "print(f\"Sub={a-b}\")"
   ]
  },
  {
   "cell_type": "code",
   "execution_count": null,
   "id": "4e796eb0-24d6-4adf-b260-f2001475af20",
   "metadata": {},
   "outputs": [],
   "source": [
    "#Multiplication"
   ]
  },
  {
   "cell_type": "code",
   "execution_count": 13,
   "id": "20b3ad21-778c-43d4-80b1-00d492c0ad76",
   "metadata": {},
   "outputs": [
    {
     "name": "stdout",
     "output_type": "stream",
     "text": [
      "a=63\n",
      "b=97\n",
      "Mul=6111\n"
     ]
    }
   ],
   "source": [
    "a=63\n",
    "b=97\n",
    "print(f\"a={a}\")\n",
    "print(f\"b={b}\")\n",
    "print(f\"Mul={a*b}\")"
   ]
  },
  {
   "cell_type": "code",
   "execution_count": null,
   "id": "b6f53649-193e-4876-a6e5-272f945ffbd9",
   "metadata": {},
   "outputs": [],
   "source": [
    "#Division"
   ]
  },
  {
   "cell_type": "code",
   "execution_count": 14,
   "id": "b7fa3b4b-1fba-473f-b7bf-002bcbc53b16",
   "metadata": {},
   "outputs": [
    {
     "name": "stdout",
     "output_type": "stream",
     "text": [
      "a=76\n",
      "b=31\n",
      "Float Div=2.4516129032258065\n"
     ]
    }
   ],
   "source": [
    "a=76\n",
    "b=31\n",
    "print(f\"a={a}\")\n",
    "print(f\"b={b}\")\n",
    "print(f\"Float Div={a/b}\")"
   ]
  },
  {
   "cell_type": "code",
   "execution_count": null,
   "id": "b0c01969-21b2-4464-81f2-b0950b3320af",
   "metadata": {},
   "outputs": [],
   "source": [
    "#Floor Division"
   ]
  },
  {
   "cell_type": "code",
   "execution_count": 16,
   "id": "dd17a192-ba67-4d40-be12-020b8a9c670c",
   "metadata": {},
   "outputs": [
    {
     "name": "stdout",
     "output_type": "stream",
     "text": [
      "a=76\n",
      "b=31\n",
      "Floor Div=2\n"
     ]
    }
   ],
   "source": [
    "a=76\n",
    "b=31\n",
    "print(f\"a={a}\")\n",
    "print(f\"b={b}\")\n",
    "print(f\"Floor Div={a//b}\")"
   ]
  },
  {
   "cell_type": "code",
   "execution_count": null,
   "id": "a42fff62-7b98-40aa-9a5b-396efe2c8bbb",
   "metadata": {},
   "outputs": [],
   "source": [
    "#Modulo"
   ]
  },
  {
   "cell_type": "code",
   "execution_count": 17,
   "id": "87690552-9096-49d8-a73b-d7f371fed733",
   "metadata": {},
   "outputs": [
    {
     "name": "stdout",
     "output_type": "stream",
     "text": [
      "a=76\n",
      "b=31\n",
      "Modulo=14\n"
     ]
    }
   ],
   "source": [
    "a=76\n",
    "b=31\n",
    "print(f\"a={a}\")\n",
    "print(f\"b={b}\")\n",
    "print(f\"Modulo={a%b}\")"
   ]
  },
  {
   "cell_type": "code",
   "execution_count": null,
   "id": "eea831ee-8a0b-43ea-98d7-51dfcb02937c",
   "metadata": {},
   "outputs": [],
   "source": [
    "#Power"
   ]
  },
  {
   "cell_type": "code",
   "execution_count": 19,
   "id": "e96213e7-f33e-4b85-8607-a72ce314d14e",
   "metadata": {},
   "outputs": [
    {
     "name": "stdout",
     "output_type": "stream",
     "text": [
      "a=4\n",
      "b=4\n",
      "Power =256\n"
     ]
    }
   ],
   "source": [
    "a=4\n",
    "b=4\n",
    "print(f\"a={a}\")\n",
    "print(f\"b={b}\")\n",
    "print(f\"Power ={a**b}\")"
   ]
  },
  {
   "cell_type": "code",
   "execution_count": null,
   "id": "78eaabdb-346a-420f-b482-1864c72c5cba",
   "metadata": {},
   "outputs": [],
   "source": []
  }
 ],
 "metadata": {
  "kernelspec": {
   "display_name": "Python 3 (ipykernel)",
   "language": "python",
   "name": "python3"
  },
  "language_info": {
   "codemirror_mode": {
    "name": "ipython",
    "version": 3
   },
   "file_extension": ".py",
   "mimetype": "text/x-python",
   "name": "python",
   "nbconvert_exporter": "python",
   "pygments_lexer": "ipython3",
   "version": "3.12.7"
  }
 },
 "nbformat": 4,
 "nbformat_minor": 5
}
