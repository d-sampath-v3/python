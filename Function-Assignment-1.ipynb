{
 "cells": [
  {
   "cell_type": "code",
   "execution_count": 9,
   "id": "8b09fdd1-f643-4a24-8595-264a9c14572e",
   "metadata": {},
   "outputs": [],
   "source": [
    "class SubfieldsInAI:\n",
    "    def Subfields():\n",
    "        print(\"Sub-fields in AI are:\")\n",
    "        print(\"Machine Learning\")\n",
    "        print(\"Neural Networks\")\n",
    "        print(\"Vision\")\n",
    "        print(\"Robotics\")\n",
    "        print(\"Speech Processing\")\n",
    "        print(\"Natural Language Processing\")"
   ]
  },
  {
   "cell_type": "code",
   "execution_count": 10,
   "id": "63c048df-613f-4a39-b2c8-65b4f7749823",
   "metadata": {},
   "outputs": [
    {
     "name": "stdout",
     "output_type": "stream",
     "text": [
      "Sub-fields in AI are:\n",
      "Machine Learning\n",
      "Neural Networks\n",
      "Vision\n",
      "Robotics\n",
      "Speech Processing\n",
      "Natural Language Processing\n"
     ]
    }
   ],
   "source": [
    "SubfieldsInAI.Subfields()"
   ]
  },
  {
   "cell_type": "code",
   "execution_count": 18,
   "id": "4785a357-ec6e-4870-9722-0b504e58bde1",
   "metadata": {},
   "outputs": [],
   "source": [
    "class OddEven:\n",
    "    def OddEven():\n",
    "        num = int(input(\"Enter a number\"))\n",
    "        if(num%2==0):\n",
    "            \n",
    "            print(f\"{num} is Even Number\")\n",
    "        else:\n",
    "            print(f\"{num} is Odd Number\")"
   ]
  },
  {
   "cell_type": "code",
   "execution_count": 19,
   "id": "58dd97a6-4160-43e9-81f7-e6c3b8e1901d",
   "metadata": {},
   "outputs": [
    {
     "name": "stdin",
     "output_type": "stream",
     "text": [
      "Enter a number 52452\n"
     ]
    },
    {
     "name": "stdout",
     "output_type": "stream",
     "text": [
      "52452 is Even Number\n"
     ]
    }
   ],
   "source": [
    "OddEven.OddEven()"
   ]
  },
  {
   "cell_type": "code",
   "execution_count": 26,
   "id": "4be7ead1-fdca-4b24-b661-6d77faeb6d98",
   "metadata": {},
   "outputs": [],
   "source": [
    "class ElegiblityForMarriage:\n",
    "    def Elegible():\n",
    "        gender = \"Male\"\n",
    "        age = 20;\n",
    "        print(f\"Your Gender :{gender}\")\n",
    "        print(f\"Your Age :{age}\")\n",
    "        if(age<21):\n",
    "            print(\"NOT ELIGIBLE\")\n",
    "        else:\n",
    "            print(\"ELGIBLE\")    "
   ]
  },
  {
   "cell_type": "code",
   "execution_count": 27,
   "id": "1a796beb-cf65-4f27-a802-cb67f84ebbc8",
   "metadata": {},
   "outputs": [
    {
     "name": "stdout",
     "output_type": "stream",
     "text": [
      "Your Gender :Male\n",
      "Your Age :20\n",
      "NOT ELIGIBLE\n"
     ]
    }
   ],
   "source": [
    "ElegiblityForMarriage.Elegible()"
   ]
  },
  {
   "cell_type": "code",
   "execution_count": 43,
   "id": "3e66be7c-8b59-41c4-8bd6-1ad14348fce7",
   "metadata": {},
   "outputs": [],
   "source": [
    "class FindPercent: \n",
    "    def percentage():\n",
    "        sub1= 98\n",
    "        sub2= 87\n",
    "        sub3= 95\n",
    "        sub4= 95\n",
    "        sub5= 93  \n",
    "        total =sub1+sub2+sub3+sub4+sub5\n",
    "        avg = total/5\n",
    "        print(f\"Subject1={sub1}\")\n",
    "        print(f\"Subject2={sub2}\")\n",
    "        print(f\"Subject2={sub3}\")\n",
    "        print(f\"Subject2={sub4}\")\n",
    "        print(f\"Subject2={sub5}\")\n",
    "        print(f\"Total={total}\")\n",
    "        print(f\"Percentage={avg}\")\n",
    "\n",
    "        "
   ]
  },
  {
   "cell_type": "code",
   "execution_count": 44,
   "id": "7cd77064-f717-4238-bbdf-44796b3ba821",
   "metadata": {},
   "outputs": [
    {
     "name": "stdout",
     "output_type": "stream",
     "text": [
      "Subject1=98\n",
      "Subject2=87\n",
      "Subject2=95\n",
      "Subject2=95\n",
      "Subject2=93\n",
      "Total=468\n",
      "Percentage=93.6\n"
     ]
    }
   ],
   "source": [
    "FindPercent.percentage()"
   ]
  },
  {
   "cell_type": "code",
   "execution_count": 45,
   "id": "3b17b922-8da7-442c-8dff-910a06f40abf",
   "metadata": {},
   "outputs": [],
   "source": [
    "class triangle:\n",
    "    def triangle():\n",
    "        height=32\n",
    "        breadth=34\n",
    "        height1=2\n",
    "        height2=4\n",
    "        breadth=4\n",
    "        area = (height*breadth)/2\n",
    "        premiter = height1+height2+breadth\n",
    "        print(f\"Height:{height}\")\n",
    "        print(f\"Breadth:{breadth}\")\n",
    "        print(\"Area formula: (Height * Breadth)/2\")\n",
    "        print(f\"Area of Triangle: {area}\")\n",
    "        print(f\"Height1:{height1}\")\n",
    "        print(f\"Height2:{height2}\")\n",
    "        print(f\"Breadth:{breadth}\")\n",
    "        print(\"Primeter formula: Height1+Height2+Breadth\")\n",
    "        print(f\"Premiter of Triangle: {premiter}\")\n",
    "        "
   ]
  },
  {
   "cell_type": "code",
   "execution_count": 46,
   "id": "b7e27d37-32fe-40e3-a4e7-939185f1b97c",
   "metadata": {},
   "outputs": [
    {
     "name": "stdout",
     "output_type": "stream",
     "text": [
      "Height:32\n",
      "Breadth:4\n",
      "Area formula: (Height * Breadth)/2\n",
      "Area of Triangle: 64.0\n",
      "Height1:2\n",
      "Height2:4\n",
      "Breadth:4\n",
      "Primeter formula: Height1+Height2+Breadth\n",
      "Premiter of Triangle: 10\n"
     ]
    }
   ],
   "source": [
    "triangle.triangle()"
   ]
  },
  {
   "cell_type": "code",
   "execution_count": null,
   "id": "30cd28c5-a97b-459e-83aa-5c7546c288bb",
   "metadata": {},
   "outputs": [],
   "source": []
  }
 ],
 "metadata": {
  "kernelspec": {
   "display_name": "Python 3 (ipykernel)",
   "language": "python",
   "name": "python3"
  },
  "language_info": {
   "codemirror_mode": {
    "name": "ipython",
    "version": 3
   },
   "file_extension": ".py",
   "mimetype": "text/x-python",
   "name": "python",
   "nbconvert_exporter": "python",
   "pygments_lexer": "ipython3",
   "version": "3.12.7"
  }
 },
 "nbformat": 4,
 "nbformat_minor": 5
}
