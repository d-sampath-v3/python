{
 "cells": [
  {
   "cell_type": "code",
   "execution_count": null,
   "id": "0a6639d7-aef4-4790-b7ef-c41b05300c69",
   "metadata": {},
   "outputs": [],
   "source": [
    "# print 'CORRECT' if i == 10"
   ]
  },
  {
   "cell_type": "code",
   "execution_count": 2,
   "id": "f11a1a52-bb47-4057-887a-7d304bb07112",
   "metadata": {},
   "outputs": [
    {
     "name": "stdout",
     "output_type": "stream",
     "text": [
      "value : 10\n",
      "Correct\n"
     ]
    }
   ],
   "source": [
    "i=10\n",
    "print(f\"value : {i}\")\n",
    "if(i==10):\n",
    "    print(\"Correct\")"
   ]
  },
  {
   "cell_type": "code",
   "execution_count": null,
   "id": "b072c5fe-cfc1-4915-8b75-277a28d3bfff",
   "metadata": {},
   "outputs": [],
   "source": [
    "# Check the password, using if and else"
   ]
  },
  {
   "cell_type": "code",
   "execution_count": 3,
   "id": "943eed47-b0c2-4378-bf0e-d01a500197d6",
   "metadata": {},
   "outputs": [
    {
     "name": "stdin",
     "output_type": "stream",
     "text": [
      "Enter the password:  HOPE123\n"
     ]
    },
    {
     "name": "stdout",
     "output_type": "stream",
     "text": [
      "Your Password is correct\n"
     ]
    }
   ],
   "source": [
    "password = input(\"Enter the password: \")\n",
    "if(password==\"HOPE123\"):\n",
    "    print(\"Your Password is correct\")"
   ]
  },
  {
   "cell_type": "code",
   "execution_count": null,
   "id": "83dfe0a8-a7e3-414c-9498-597d1606aca3",
   "metadata": {},
   "outputs": [],
   "source": [
    "#Catagory the people by their age like children, adult, citizen, senior citizen."
   ]
  },
  {
   "cell_type": "code",
   "execution_count": 5,
   "id": "3b0ee715-f3ff-47c9-9fd2-2fe5729d6dba",
   "metadata": {},
   "outputs": [
    {
     "name": "stdout",
     "output_type": "stream",
     "text": [
      "Adult\n"
     ]
    }
   ],
   "source": [
    "age=20;\n",
    "if(age<=18):\n",
    "    print(\"Child\")\n",
    "elif(age>18 and age<=50):\n",
    "    print(\"Adult\")\n",
    "elif(age>50):\n",
    "    print(\"Citizen\")\n",
    "else:\n",
    "    print(\"Senior Citizen\")"
   ]
  },
  {
   "cell_type": "code",
   "execution_count": null,
   "id": "163f9444-8adf-4a27-9dd3-3a2c8180ff4a",
   "metadata": {},
   "outputs": [],
   "source": [
    "#Check whether the given number is divisible by 5"
   ]
  },
  {
   "cell_type": "code",
   "execution_count": 8,
   "id": "4f2ff1f7-0170-45e6-bd46-e8da948d9b1d",
   "metadata": {},
   "outputs": [
    {
     "name": "stdin",
     "output_type": "stream",
     "text": [
      "Enter a number to check: 22\n"
     ]
    },
    {
     "name": "stdout",
     "output_type": "stream",
     "text": [
      "No is not divisible by 5\n"
     ]
    }
   ],
   "source": [
    "num = int(input(\"Enter a number to check:\"));\n",
    "if((num % 5)==0) :\n",
    "    print(\"No is divisible by 5\")\n",
    "else:\n",
    "    print(\"No is not divisible by 5\") "
   ]
  },
  {
   "cell_type": "code",
   "execution_count": null,
   "id": "e0a704bc-8a60-4a42-8151-ef4634ef944c",
   "metadata": {},
   "outputs": [],
   "source": []
  }
 ],
 "metadata": {
  "kernelspec": {
   "display_name": "Python 3 (ipykernel)",
   "language": "python",
   "name": "python3"
  },
  "language_info": {
   "codemirror_mode": {
    "name": "ipython",
    "version": 3
   },
   "file_extension": ".py",
   "mimetype": "text/x-python",
   "name": "python",
   "nbconvert_exporter": "python",
   "pygments_lexer": "ipython3",
   "version": "3.12.7"
  }
 },
 "nbformat": 4,
 "nbformat_minor": 5
}
