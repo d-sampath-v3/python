{
 "cells": [
  {
   "cell_type": "code",
   "execution_count": 1,
   "id": "3d2cdca9-91ce-4575-8d43-cbd2046c5095",
   "metadata": {},
   "outputs": [
    {
     "name": "stdout",
     "output_type": "stream",
     "text": [
      "Welcome to Assignment-1\n"
     ]
    }
   ],
   "source": [
    "print(\"Welcome to Assignment-1\")"
   ]
  },
  {
   "cell_type": "code",
   "execution_count": 17,
   "id": "edd4fed3-c9d9-4d1e-89a8-27c088d6bfdd",
   "metadata": {},
   "outputs": [],
   "source": [
    "num1=10\n",
    "num2=30\n",
    "add = num1+num2"
   ]
  },
  {
   "cell_type": "code",
   "execution_count": 18,
   "id": "ea5a5539-1923-41aa-b33a-0aedf4be5f1e",
   "metadata": {},
   "outputs": [
    {
     "name": "stdout",
     "output_type": "stream",
     "text": [
      "Num1= 10\n",
      "Num2= 30\n",
      "Add= 40\n"
     ]
    }
   ],
   "source": [
    "print(f\"Num1= {num1}\")\n",
    "print(f\"Num2= {num2}\")\n",
    "print(f\"Add= {add}\")"
   ]
  },
  {
   "cell_type": "code",
   "execution_count": null,
   "id": "d94b4591-6a92-499d-819e-9530f862c2b1",
   "metadata": {},
   "outputs": [],
   "source": [
    "#Body Mass Index"
   ]
  },
  {
   "cell_type": "code",
   "execution_count": 21,
   "id": "60cea52e-c972-4427-b5a6-be00852895d6",
   "metadata": {},
   "outputs": [
    {
     "name": "stdin",
     "output_type": "stream",
     "text": [
      "Enter the BMI Index 34\n"
     ]
    },
    {
     "name": "stdout",
     "output_type": "stream",
     "text": [
      "Very Overweight\n"
     ]
    }
   ],
   "source": [
    "bmi = int(input(\"Enter the BMI Index\"))\n",
    "if(bmi<16):\n",
    "    print(\"Severe Thinness\")\n",
    "elif(bmi>16 and bmi<=17):\n",
    "    print(\"Moderate Thinness\")\n",
    "elif(bmi>17 and bmi<=18.5):\n",
    "    print(\"Mild Thinness\")\n",
    "elif(bmi>18.5 and bmi<=25):\n",
    "    print(\"Normal\")\n",
    "elif(bmi>25 and bmi<=30):\n",
    "    print(\"Overweight\")\n",
    "else:\n",
    "    print(\"Very Overweight\")"
   ]
  },
  {
   "cell_type": "code",
   "execution_count": null,
   "id": "d7557f83-54c6-4d63-b599-143f3a356e3f",
   "metadata": {},
   "outputs": [],
   "source": []
  }
 ],
 "metadata": {
  "kernelspec": {
   "display_name": "Python 3 (ipykernel)",
   "language": "python",
   "name": "python3"
  },
  "language_info": {
   "codemirror_mode": {
    "name": "ipython",
    "version": 3
   },
   "file_extension": ".py",
   "mimetype": "text/x-python",
   "name": "python",
   "nbconvert_exporter": "python",
   "pygments_lexer": "ipython3",
   "version": "3.12.7"
  }
 },
 "nbformat": 4,
 "nbformat_minor": 5
}
